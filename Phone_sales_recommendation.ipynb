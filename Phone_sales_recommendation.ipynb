{
 "cells": [
  {
   "cell_type": "markdown",
   "metadata": {},
   "source": [
    "# Ecommerce Data \n",
    "\n",
    "This analysis would be focused on data obtained from Ecommerce website Jumia.com. They deal on a range of items, but this dataset contains only android mobile devices. The task would be approached from a seller's perspectives. The compnay is focused on selling low priced phones and are interested in knowing phones that meet the demand for low priced devices. \n",
    "\n",
    "### Summary\n",
    "\n",
    "Some of the statistical tools employed in performing the analysis include: mean, median and correlation. Outliers were also identified using box plot to determine extreme values. After several analysis, the recommended phone brands were Gionee, Nokia, LG and Infinix"
   ]
  },
  {
   "cell_type": "code",
   "execution_count": 1,
   "metadata": {},
   "outputs": [],
   "source": [
    "# importing the libraries\n",
    "import pandas as pd\n",
    "import numpy as np\n",
    "import matplotlib.pyplot as plt\n",
    "import seaborn as sns\n",
    "%matplotlib inline"
   ]
  },
  {
   "cell_type": "code",
   "execution_count": 2,
   "metadata": {},
   "outputs": [],
   "source": [
    "# Reading the dataset\n",
    "data = pd.read_csv('Jumia_clean.csv')"
   ]
  },
  {
   "cell_type": "code",
   "execution_count": 3,
   "metadata": {},
   "outputs": [
    {
     "data": {
      "text/html": [
       "<div>\n",
       "<style scoped>\n",
       "    .dataframe tbody tr th:only-of-type {\n",
       "        vertical-align: middle;\n",
       "    }\n",
       "\n",
       "    .dataframe tbody tr th {\n",
       "        vertical-align: top;\n",
       "    }\n",
       "\n",
       "    .dataframe thead th {\n",
       "        text-align: right;\n",
       "    }\n",
       "</style>\n",
       "<table border=\"1\" class=\"dataframe\">\n",
       "  <thead>\n",
       "    <tr style=\"text-align: right;\">\n",
       "      <th></th>\n",
       "      <th>brand</th>\n",
       "      <th>current_price</th>\n",
       "      <th>old_price</th>\n",
       "      <th>discount</th>\n",
       "      <th>description</th>\n",
       "      <th>ratings</th>\n",
       "      <th>times_reviewed</th>\n",
       "      <th>rom</th>\n",
       "      <th>ram</th>\n",
       "      <th>battery</th>\n",
       "      <th>camera</th>\n",
       "      <th>sim port</th>\n",
       "      <th>screen_dim</th>\n",
       "      <th>android_ver</th>\n",
       "    </tr>\n",
       "  </thead>\n",
       "  <tbody>\n",
       "    <tr>\n",
       "      <th>0</th>\n",
       "      <td>Gionee</td>\n",
       "      <td>48000</td>\n",
       "      <td>73630</td>\n",
       "      <td>-35</td>\n",
       "      <td>Gionee K3 (M100) 4GB+64GB 6.22 Inch HD+ Androi...</td>\n",
       "      <td>3.50</td>\n",
       "      <td>10</td>\n",
       "      <td>64.0</td>\n",
       "      <td>4.0</td>\n",
       "      <td>5000.0</td>\n",
       "      <td>13.0</td>\n",
       "      <td>Dual SIM</td>\n",
       "      <td>6.22</td>\n",
       "      <td>8.1</td>\n",
       "    </tr>\n",
       "    <tr>\n",
       "      <th>1</th>\n",
       "      <td>Nokia</td>\n",
       "      <td>59520</td>\n",
       "      <td>119660</td>\n",
       "      <td>-50</td>\n",
       "      <td>7， 5.2-inch (4GB, 64GB ROM) Android 7.1, 16MP ...</td>\n",
       "      <td>3.80</td>\n",
       "      <td>10</td>\n",
       "      <td>64.0</td>\n",
       "      <td>4.0</td>\n",
       "      <td>3000.0</td>\n",
       "      <td>16.0</td>\n",
       "      <td>Dual Sim</td>\n",
       "      <td>5.20</td>\n",
       "      <td>7.1</td>\n",
       "    </tr>\n",
       "    <tr>\n",
       "      <th>2</th>\n",
       "      <td>UMIDIGI</td>\n",
       "      <td>25990</td>\n",
       "      <td>29990</td>\n",
       "      <td>-13</td>\n",
       "      <td>A3S Android 10 Global Band 3950mAh 5.7\" Smartp...</td>\n",
       "      <td>4.30</td>\n",
       "      <td>99</td>\n",
       "      <td>32.0</td>\n",
       "      <td>4.0</td>\n",
       "      <td>3950.0</td>\n",
       "      <td>13.0</td>\n",
       "      <td>Triple Slots</td>\n",
       "      <td>5.70</td>\n",
       "      <td>10.0</td>\n",
       "    </tr>\n",
       "    <tr>\n",
       "      <th>3</th>\n",
       "      <td>Nokia</td>\n",
       "      <td>42990</td>\n",
       "      <td>70485</td>\n",
       "      <td>-39</td>\n",
       "      <td>3.2 3GB RAM 32GB 6.26 Inch 13MP Camera Dual SI...</td>\n",
       "      <td>4.05</td>\n",
       "      <td>104</td>\n",
       "      <td>32.0</td>\n",
       "      <td>3.0</td>\n",
       "      <td>4000.0</td>\n",
       "      <td>13.0</td>\n",
       "      <td>Dual SIM</td>\n",
       "      <td>6.26</td>\n",
       "      <td>9.0</td>\n",
       "    </tr>\n",
       "    <tr>\n",
       "      <th>4</th>\n",
       "      <td>UMIDIGI</td>\n",
       "      <td>25990</td>\n",
       "      <td>29990</td>\n",
       "      <td>-13</td>\n",
       "      <td>A3S Android 10 Global Band 3950mAh 5.7\" Smartp...</td>\n",
       "      <td>3.90</td>\n",
       "      <td>148</td>\n",
       "      <td>32.0</td>\n",
       "      <td>4.0</td>\n",
       "      <td>3950.0</td>\n",
       "      <td>13.0</td>\n",
       "      <td>Triple Slots</td>\n",
       "      <td>5.70</td>\n",
       "      <td>10.0</td>\n",
       "    </tr>\n",
       "  </tbody>\n",
       "</table>\n",
       "</div>"
      ],
      "text/plain": [
       "     brand  current_price  old_price  discount  \\\n",
       "0   Gionee          48000      73630       -35   \n",
       "1    Nokia          59520     119660       -50   \n",
       "2  UMIDIGI          25990      29990       -13   \n",
       "3    Nokia          42990      70485       -39   \n",
       "4  UMIDIGI          25990      29990       -13   \n",
       "\n",
       "                                         description  ratings  times_reviewed  \\\n",
       "0  Gionee K3 (M100) 4GB+64GB 6.22 Inch HD+ Androi...     3.50              10   \n",
       "1  7， 5.2-inch (4GB, 64GB ROM) Android 7.1, 16MP ...     3.80              10   \n",
       "2  A3S Android 10 Global Band 3950mAh 5.7\" Smartp...     4.30              99   \n",
       "3  3.2 3GB RAM 32GB 6.26 Inch 13MP Camera Dual SI...     4.05             104   \n",
       "4  A3S Android 10 Global Band 3950mAh 5.7\" Smartp...     3.90             148   \n",
       "\n",
       "    rom  ram  battery  camera      sim port  screen_dim  android_ver  \n",
       "0  64.0  4.0   5000.0    13.0      Dual SIM        6.22          8.1  \n",
       "1  64.0  4.0   3000.0    16.0      Dual Sim        5.20          7.1  \n",
       "2  32.0  4.0   3950.0    13.0  Triple Slots        5.70         10.0  \n",
       "3  32.0  3.0   4000.0    13.0      Dual SIM        6.26          9.0  \n",
       "4  32.0  4.0   3950.0    13.0  Triple Slots        5.70         10.0  "
      ]
     },
     "execution_count": 3,
     "metadata": {},
     "output_type": "execute_result"
    }
   ],
   "source": [
    "data.head()"
   ]
  },
  {
   "cell_type": "markdown",
   "metadata": {},
   "source": [
    "## Exploring the Price  column"
   ]
  },
  {
   "cell_type": "code",
   "execution_count": 4,
   "metadata": {},
   "outputs": [
    {
     "data": {
      "image/png": "[encoded data removed]",
      "text/plain": [
       "<Figure size 864x504 with 1 Axes>"
      ]
     },
     "metadata": {
      "needs_background": "light"
     },
     "output_type": "display_data"
    }
   ],
   "source": [
    "# Identifying outliers\n",
    "data.current_price.plot.box(title='The distribution of the current price column', figsize = (12,7))\n",
    "sns.despine(left = True, bottom = True);"
   ]
  },
  {
   "cell_type": "markdown",
   "metadata": {},
   "source": [
    "## Approach\n",
    "\n",
    "Since the company is focused on selling low cost devices, it is imperative to know the where majority (80%) of phones prices lie. In using the 80th quartile, it would allow for a broader range of phones as compared to when the median is used."
   ]
  },
  {
   "cell_type": "code",
   "execution_count": 5,
   "metadata": {},
   "outputs": [
    {
     "data": {
      "text/html": [
       "<div>\n",
       "<style scoped>\n",
       "    .dataframe tbody tr th:only-of-type {\n",
       "        vertical-align: middle;\n",
       "    }\n",
       "\n",
       "    .dataframe tbody tr th {\n",
       "        vertical-align: top;\n",
       "    }\n",
       "\n",
       "    .dataframe thead th {\n",
       "        text-align: right;\n",
       "    }\n",
       "</style>\n",
       "<table border=\"1\" class=\"dataframe\">\n",
       "  <thead>\n",
       "    <tr style=\"text-align: right;\">\n",
       "      <th></th>\n",
       "      <th>brand</th>\n",
       "      <th>current_price</th>\n",
       "      <th>old_price</th>\n",
       "      <th>discount</th>\n",
       "      <th>description</th>\n",
       "      <th>ratings</th>\n",
       "      <th>times_reviewed</th>\n",
       "      <th>rom</th>\n",
       "      <th>ram</th>\n",
       "      <th>battery</th>\n",
       "      <th>camera</th>\n",
       "      <th>sim port</th>\n",
       "      <th>screen_dim</th>\n",
       "      <th>android_ver</th>\n",
       "    </tr>\n",
       "  </thead>\n",
       "  <tbody>\n",
       "    <tr>\n",
       "      <th>0</th>\n",
       "      <td>Gionee</td>\n",
       "      <td>48000</td>\n",
       "      <td>73630</td>\n",
       "      <td>-35</td>\n",
       "      <td>Gionee K3 (M100) 4GB+64GB 6.22 Inch HD+ Androi...</td>\n",
       "      <td>3.50</td>\n",
       "      <td>10</td>\n",
       "      <td>64.0</td>\n",
       "      <td>4.0</td>\n",
       "      <td>5000.0</td>\n",
       "      <td>13.0</td>\n",
       "      <td>Dual SIM</td>\n",
       "      <td>6.22</td>\n",
       "      <td>8.1</td>\n",
       "    </tr>\n",
       "    <tr>\n",
       "      <th>1</th>\n",
       "      <td>Nokia</td>\n",
       "      <td>59520</td>\n",
       "      <td>119660</td>\n",
       "      <td>-50</td>\n",
       "      <td>7， 5.2-inch (4GB, 64GB ROM) Android 7.1, 16MP ...</td>\n",
       "      <td>3.80</td>\n",
       "      <td>10</td>\n",
       "      <td>64.0</td>\n",
       "      <td>4.0</td>\n",
       "      <td>3000.0</td>\n",
       "      <td>16.0</td>\n",
       "      <td>Dual Sim</td>\n",
       "      <td>5.20</td>\n",
       "      <td>7.1</td>\n",
       "    </tr>\n",
       "    <tr>\n",
       "      <th>2</th>\n",
       "      <td>UMIDIGI</td>\n",
       "      <td>25990</td>\n",
       "      <td>29990</td>\n",
       "      <td>-13</td>\n",
       "      <td>A3S Android 10 Global Band 3950mAh 5.7\" Smartp...</td>\n",
       "      <td>4.30</td>\n",
       "      <td>99</td>\n",
       "      <td>32.0</td>\n",
       "      <td>4.0</td>\n",
       "      <td>3950.0</td>\n",
       "      <td>13.0</td>\n",
       "      <td>Triple Slots</td>\n",
       "      <td>5.70</td>\n",
       "      <td>10.0</td>\n",
       "    </tr>\n",
       "    <tr>\n",
       "      <th>3</th>\n",
       "      <td>Nokia</td>\n",
       "      <td>42990</td>\n",
       "      <td>70485</td>\n",
       "      <td>-39</td>\n",
       "      <td>3.2 3GB RAM 32GB 6.26 Inch 13MP Camera Dual SI...</td>\n",
       "      <td>4.05</td>\n",
       "      <td>104</td>\n",
       "      <td>32.0</td>\n",
       "      <td>3.0</td>\n",
       "      <td>4000.0</td>\n",
       "      <td>13.0</td>\n",
       "      <td>Dual SIM</td>\n",
       "      <td>6.26</td>\n",
       "      <td>9.0</td>\n",
       "    </tr>\n",
       "    <tr>\n",
       "      <th>4</th>\n",
       "      <td>UMIDIGI</td>\n",
       "      <td>25990</td>\n",
       "      <td>29990</td>\n",
       "      <td>-13</td>\n",
       "      <td>A3S Android 10 Global Band 3950mAh 5.7\" Smartp...</td>\n",
       "      <td>3.90</td>\n",
       "      <td>148</td>\n",
       "      <td>32.0</td>\n",
       "      <td>4.0</td>\n",
       "      <td>3950.0</td>\n",
       "      <td>13.0</td>\n",
       "      <td>Triple Slots</td>\n",
       "      <td>5.70</td>\n",
       "      <td>10.0</td>\n",
       "    </tr>\n",
       "  </tbody>\n",
       "</table>\n",
       "</div>"
      ],
      "text/plain": [
       "     brand  current_price  old_price  discount  \\\n",
       "0   Gionee          48000      73630       -35   \n",
       "1    Nokia          59520     119660       -50   \n",
       "2  UMIDIGI          25990      29990       -13   \n",
       "3    Nokia          42990      70485       -39   \n",
       "4  UMIDIGI          25990      29990       -13   \n",
       "\n",
       "                                         description  ratings  times_reviewed  \\\n",
       "0  Gionee K3 (M100) 4GB+64GB 6.22 Inch HD+ Androi...     3.50              10   \n",
       "1  7， 5.2-inch (4GB, 64GB ROM) Android 7.1, 16MP ...     3.80              10   \n",
       "2  A3S Android 10 Global Band 3950mAh 5.7\" Smartp...     4.30              99   \n",
       "3  3.2 3GB RAM 32GB 6.26 Inch 13MP Camera Dual SI...     4.05             104   \n",
       "4  A3S Android 10 Global Band 3950mAh 5.7\" Smartp...     3.90             148   \n",
       "\n",
       "    rom  ram  battery  camera      sim port  screen_dim  android_ver  \n",
       "0  64.0  4.0   5000.0    13.0      Dual SIM        6.22          8.1  \n",
       "1  64.0  4.0   3000.0    16.0      Dual Sim        5.20          7.1  \n",
       "2  32.0  4.0   3950.0    13.0  Triple Slots        5.70         10.0  \n",
       "3  32.0  3.0   4000.0    13.0      Dual SIM        6.26          9.0  \n",
       "4  32.0  4.0   3950.0    13.0  Triple Slots        5.70         10.0  "
      ]
     },
     "execution_count": 5,
     "metadata": {},
     "output_type": "execute_result"
    }
   ],
   "source": [
    "# Calculating the 80th percentile\n",
    "below_80th = data[data['current_price'] <= data['current_price'].quantile(.80)]\n",
    "below_80th.head()"
   ]
  },
  {
   "cell_type": "markdown",
   "metadata": {},
   "source": [
    "### Exploring the Number of brands\n",
    "\n",
    "We need to know the number of brands that have devices that are within the 80th percentile, then drop brands whose representation are less than a threshold. Our threshold in this case will be brands that their listed devices are less than 10."
   ]
  },
  {
   "cell_type": "code",
   "execution_count": 6,
   "metadata": {},
   "outputs": [
    {
     "data": {
      "image/png": "[encoded data removed]",
      "text/plain": [
       "<Figure size 1152x504 with 1 Axes>"
      ]
     },
     "metadata": {
      "needs_background": "light"
     },
     "output_type": "display_data"
    }
   ],
   "source": [
    "plt.figure(figsize=(16,7))\n",
    "\n",
    "# Brands that are listed ten times or more\n",
    "ten_abo = below_80th.brand.value_counts()[below_80th.brand.value_counts() >= 10]\n",
    "ten_abo.plot.bar()\n",
    "\n",
    "for x,y in enumerate(ten_abo):\n",
    "    plt.text(x,y+0.5,y,ha='center',fontsize=13)\n",
    "\n",
    "plt.xticks(rotation=0, weight='bold')\n",
    "sns.despine(left=True, bottom=True)\n",
    "plt.title('Brands that have more than Ten devices listed', size = 14, weight='bold')\n",
    "plt.yticks([]);"
   ]
  },
  {
   "cell_type": "code",
   "execution_count": 7,
   "metadata": {},
   "outputs": [
    {
     "data": {
      "text/html": [
       "<div>\n",
       "<style scoped>\n",
       "    .dataframe tbody tr th:only-of-type {\n",
       "        vertical-align: middle;\n",
       "    }\n",
       "\n",
       "    .dataframe tbody tr th {\n",
       "        vertical-align: top;\n",
       "    }\n",
       "\n",
       "    .dataframe thead th {\n",
       "        text-align: right;\n",
       "    }\n",
       "</style>\n",
       "<table border=\"1\" class=\"dataframe\">\n",
       "  <thead>\n",
       "    <tr style=\"text-align: right;\">\n",
       "      <th></th>\n",
       "      <th>brand</th>\n",
       "      <th>current_price</th>\n",
       "      <th>old_price</th>\n",
       "      <th>discount</th>\n",
       "      <th>description</th>\n",
       "      <th>ratings</th>\n",
       "      <th>times_reviewed</th>\n",
       "      <th>rom</th>\n",
       "      <th>ram</th>\n",
       "      <th>battery</th>\n",
       "      <th>camera</th>\n",
       "      <th>sim port</th>\n",
       "      <th>screen_dim</th>\n",
       "      <th>android_ver</th>\n",
       "    </tr>\n",
       "  </thead>\n",
       "  <tbody>\n",
       "    <tr>\n",
       "      <th>0</th>\n",
       "      <td>Gionee</td>\n",
       "      <td>48000</td>\n",
       "      <td>73630</td>\n",
       "      <td>-35</td>\n",
       "      <td>Gionee K3 (M100) 4GB+64GB 6.22 Inch HD+ Androi...</td>\n",
       "      <td>3.50</td>\n",
       "      <td>10</td>\n",
       "      <td>64.0</td>\n",
       "      <td>4.0</td>\n",
       "      <td>5000.0</td>\n",
       "      <td>13.0</td>\n",
       "      <td>Dual SIM</td>\n",
       "      <td>6.22</td>\n",
       "      <td>8.1</td>\n",
       "    </tr>\n",
       "    <tr>\n",
       "      <th>1</th>\n",
       "      <td>Nokia</td>\n",
       "      <td>59520</td>\n",
       "      <td>119660</td>\n",
       "      <td>-50</td>\n",
       "      <td>7， 5.2-inch (4GB, 64GB ROM) Android 7.1, 16MP ...</td>\n",
       "      <td>3.80</td>\n",
       "      <td>10</td>\n",
       "      <td>64.0</td>\n",
       "      <td>4.0</td>\n",
       "      <td>3000.0</td>\n",
       "      <td>16.0</td>\n",
       "      <td>Dual Sim</td>\n",
       "      <td>5.20</td>\n",
       "      <td>7.1</td>\n",
       "    </tr>\n",
       "    <tr>\n",
       "      <th>2</th>\n",
       "      <td>Nokia</td>\n",
       "      <td>42990</td>\n",
       "      <td>70485</td>\n",
       "      <td>-39</td>\n",
       "      <td>3.2 3GB RAM 32GB 6.26 Inch 13MP Camera Dual SI...</td>\n",
       "      <td>4.05</td>\n",
       "      <td>104</td>\n",
       "      <td>32.0</td>\n",
       "      <td>3.0</td>\n",
       "      <td>4000.0</td>\n",
       "      <td>13.0</td>\n",
       "      <td>Dual SIM</td>\n",
       "      <td>6.26</td>\n",
       "      <td>9.0</td>\n",
       "    </tr>\n",
       "    <tr>\n",
       "      <th>3</th>\n",
       "      <td>Gionee</td>\n",
       "      <td>37350</td>\n",
       "      <td>49990</td>\n",
       "      <td>-25</td>\n",
       "      <td>S11 Lite 5.7-Inch HD (4GB,64GB ROM) Android 7....</td>\n",
       "      <td>4.25</td>\n",
       "      <td>1145</td>\n",
       "      <td>64.0</td>\n",
       "      <td>4.0</td>\n",
       "      <td>4000.0</td>\n",
       "      <td>13.0</td>\n",
       "      <td>Dual SIM</td>\n",
       "      <td>5.70</td>\n",
       "      <td>7.1</td>\n",
       "    </tr>\n",
       "    <tr>\n",
       "      <th>4</th>\n",
       "      <td>Gionee</td>\n",
       "      <td>37970</td>\n",
       "      <td>55000</td>\n",
       "      <td>-31</td>\n",
       "      <td>S11 Lite 5.7-Inch HD (4GB,64GB ROM) Android 7....</td>\n",
       "      <td>4.25</td>\n",
       "      <td>668</td>\n",
       "      <td>64.0</td>\n",
       "      <td>4.0</td>\n",
       "      <td>4000.0</td>\n",
       "      <td>13.0</td>\n",
       "      <td>Dual SIM</td>\n",
       "      <td>5.70</td>\n",
       "      <td>7.1</td>\n",
       "    </tr>\n",
       "  </tbody>\n",
       "</table>\n",
       "</div>"
      ],
      "text/plain": [
       "    brand  current_price  old_price  discount  \\\n",
       "0  Gionee          48000      73630       -35   \n",
       "1   Nokia          59520     119660       -50   \n",
       "2   Nokia          42990      70485       -39   \n",
       "3  Gionee          37350      49990       -25   \n",
       "4  Gionee          37970      55000       -31   \n",
       "\n",
       "                                         description  ratings  times_reviewed  \\\n",
       "0  Gionee K3 (M100) 4GB+64GB 6.22 Inch HD+ Androi...     3.50              10   \n",
       "1  7， 5.2-inch (4GB, 64GB ROM) Android 7.1, 16MP ...     3.80              10   \n",
       "2  3.2 3GB RAM 32GB 6.26 Inch 13MP Camera Dual SI...     4.05             104   \n",
       "3  S11 Lite 5.7-Inch HD (4GB,64GB ROM) Android 7....     4.25            1145   \n",
       "4  S11 Lite 5.7-Inch HD (4GB,64GB ROM) Android 7....     4.25             668   \n",
       "\n",
       "    rom  ram  battery  camera  sim port  screen_dim  android_ver  \n",
       "0  64.0  4.0   5000.0    13.0  Dual SIM        6.22          8.1  \n",
       "1  64.0  4.0   3000.0    16.0  Dual Sim        5.20          7.1  \n",
       "2  32.0  3.0   4000.0    13.0  Dual SIM        6.26          9.0  \n",
       "3  64.0  4.0   4000.0    13.0  Dual SIM        5.70          7.1  \n",
       "4  64.0  4.0   4000.0    13.0  Dual SIM        5.70          7.1  "
      ]
     },
     "execution_count": 7,
     "metadata": {},
     "output_type": "execute_result"
    }
   ],
   "source": [
    "# Removing the brands that have lower than 10 values\n",
    "clean = below_80th[below_80th.brand.isin(ten_abo.index)].reset_index(drop=True)\n",
    "\n",
    "clean.head()"
   ]
  },
  {
   "cell_type": "markdown",
   "metadata": {},
   "source": [
    "## Factors Affecting the Price\n",
    "\n",
    "In order to continue the analysis, it is important to understand the interaction between the price and other phone specifications. The interaction between price and these specifications would be a determinant of how we will drill down on our analysis. "
   ]
  },
  {
   "cell_type": "code",
   "execution_count": 8,
   "metadata": {},
   "outputs": [
    {
     "data": {
      "image/png": "[encoded data removed]",
      "text/plain": [
       "<Figure size 1080x504 with 2 Axes>"
      ]
     },
     "metadata": {
      "needs_background": "light"
     },
     "output_type": "display_data"
    }
   ],
   "source": [
    "# corelation between the features on our data\n",
    "plt.figure(figsize=(15,7))\n",
    "corr_data = below_80th.corr().drop(['old_price', 'discount'])\n",
    "sns.heatmap(corr_data, annot=True, mask=np.triu(corr_data, k=2), cmap='cubehelix_r')\n",
    "plt.title('Correlation between Features', weight='bold', size=13);"
   ]
  },
  {
   "cell_type": "code",
   "execution_count": 9,
   "metadata": {
    "scrolled": true
   },
   "outputs": [
    {
     "data": {
      "text/plain": [
       "rom               0.509567\n",
       "ram               0.429712\n",
       "camera            0.380826\n",
       "screen_dim        0.366539\n",
       "battery           0.240282\n",
       "ratings           0.134552\n",
       "android_ver       0.007201\n",
       "times_reviewed   -0.084859\n",
       "Name: current_price, dtype: float64"
      ]
     },
     "execution_count": 9,
     "metadata": {},
     "output_type": "execute_result"
    }
   ],
   "source": [
    "# factors influencing the prices of phones\n",
    "below_80th.corr()['current_price'].sort_values(ascending=False).drop(['current_price', 'old_price', 'discount'])"
   ]
  },
  {
   "cell_type": "markdown",
   "metadata": {},
   "source": [
    "### Camera Quality\n",
    "\n",
    "From our correlation analysis, it shows camera quality has the highest influence on the price of a phone, thus we will explore the various camera quality of the various phones listed and pick the top five qualities. We would also perform an analysis of the user rating of these top five qualities."
   ]
  },
  {
   "cell_type": "code",
   "execution_count": 10,
   "metadata": {},
   "outputs": [
    {
     "data": {
      "text/plain": [
       "13.00    198\n",
       "16.00     44\n",
       "5.00      25\n",
       "8.00      14\n",
       "2.00       8\n",
       "48.00      8\n",
       "12.00      8\n",
       "20.00      4\n",
       "3.00       2\n",
       "3.15       1\n",
       "1.30       1\n",
       "0.30       1\n",
       "25.00      1\n",
       "Name: camera, dtype: int64"
      ]
     },
     "execution_count": 10,
     "metadata": {},
     "output_type": "execute_result"
    }
   ],
   "source": [
    "# Frequency distribution of the camera column\n",
    "clean.camera.value_counts()"
   ]
  },
  {
   "cell_type": "code",
   "execution_count": 11,
   "metadata": {},
   "outputs": [
    {
     "data": {
      "image/png": "[encoded data removed]",
      "text/plain": [
       "<Figure size 864x504 with 1 Axes>"
      ]
     },
     "metadata": {
      "needs_background": "light"
     },
     "output_type": "display_data"
    }
   ],
   "source": [
    "# Since there are some cameras that are only listed once or twice, we will drop those values\n",
    "clean = clean[clean.camera.isin(clean.camera.value_counts().head().index)]\n",
    "\n",
    "# plotting the above graph\n",
    "cam_piv = clean.pivot_table(index='camera', values='ratings').sort_values('ratings', ascending = False)\n",
    "cam_piv.plot.barh(legend=False,figsize=(12,7))\n",
    "sns.despine(left=True, bottom=True)\n",
    "\n",
    "# Rounding up the top five camera qualities for uniformity\n",
    "vals  = []\n",
    "for i in cam_piv.values:\n",
    "    for a in i:\n",
    "        vals.append(round(a,2))\n",
    "\n",
    "plt.title('User Rating of the Top Five Camera Qualities', weight='bold')\n",
    "for x,y in enumerate(vals):\n",
    "    plt.text(y+0.02,x,y)\n",
    "plt.ylabel('')\n",
    "plt.xticks([]);"
   ]
  },
  {
   "cell_type": "markdown",
   "metadata": {},
   "source": [
    "### Rom Column\n",
    "\n",
    "Rom is the next most influential factor that affects the prices of phones, **however, the rom (internal storage) of a phone is not isolated, as it usually is accompanied by the ram (random access memory) of the phone**. Thus to avoid a false representation of values, **it is important to join these columns together to better understand the relationship between both of them** and how they influence the consumer experience. "
   ]
  },
  {
   "cell_type": "code",
   "execution_count": 12,
   "metadata": {},
   "outputs": [
    {
     "name": "stdout",
     "output_type": "stream",
     "text": [
      "The top seven storage option for devices are:  ['4.0ram 64.0rom', '4.0ram 32.0rom', '3.0ram 32.0rom', '1.0ram 16.0rom', '2.0ram 32.0rom', '2.0ram 16.0rom', '1.0ram 8.0rom']\n"
     ]
    }
   ],
   "source": [
    "# creating the ram_rom column\n",
    "clean['ram_rom'] = clean.ram.apply(lambda x: str(x)) + 'ram' + \" \" + clean.rom.apply(lambda x: str(x)) + 'rom'\n",
    "\n",
    "# Frequency distribution of the ram_rom column\n",
    "print('The top seven storage option for devices are: ', [i for i in clean.ram_rom.value_counts().head(7).index])"
   ]
  },
  {
   "cell_type": "code",
   "execution_count": 13,
   "metadata": {
    "scrolled": false
   },
   "outputs": [
    {
     "data": {
      "text/html": [
       "<div>\n",
       "<style scoped>\n",
       "    .dataframe tbody tr th:only-of-type {\n",
       "        vertical-align: middle;\n",
       "    }\n",
       "\n",
       "    .dataframe tbody tr th {\n",
       "        vertical-align: top;\n",
       "    }\n",
       "\n",
       "    .dataframe thead th {\n",
       "        text-align: right;\n",
       "    }\n",
       "</style>\n",
       "<table border=\"1\" class=\"dataframe\">\n",
       "  <thead>\n",
       "    <tr style=\"text-align: right;\">\n",
       "      <th></th>\n",
       "      <th>ratings</th>\n",
       "    </tr>\n",
       "    <tr>\n",
       "      <th>ram_rom</th>\n",
       "      <th></th>\n",
       "    </tr>\n",
       "  </thead>\n",
       "  <tbody>\n",
       "    <tr>\n",
       "      <th>1.0ram 8.0rom</th>\n",
       "      <td>4.361538</td>\n",
       "    </tr>\n",
       "    <tr>\n",
       "      <th>1.0ram 16.0rom</th>\n",
       "      <td>4.261667</td>\n",
       "    </tr>\n",
       "    <tr>\n",
       "      <th>4.0ram 32.0rom</th>\n",
       "      <td>4.204902</td>\n",
       "    </tr>\n",
       "    <tr>\n",
       "      <th>4.0ram 64.0rom</th>\n",
       "      <td>4.142857</td>\n",
       "    </tr>\n",
       "    <tr>\n",
       "      <th>2.0ram 16.0rom</th>\n",
       "      <td>4.084211</td>\n",
       "    </tr>\n",
       "    <tr>\n",
       "      <th>2.0ram 32.0rom</th>\n",
       "      <td>4.020833</td>\n",
       "    </tr>\n",
       "    <tr>\n",
       "      <th>3.0ram 32.0rom</th>\n",
       "      <td>3.981633</td>\n",
       "    </tr>\n",
       "  </tbody>\n",
       "</table>\n",
       "</div>"
      ],
      "text/plain": [
       "                 ratings\n",
       "ram_rom                 \n",
       "1.0ram 8.0rom   4.361538\n",
       "1.0ram 16.0rom  4.261667\n",
       "4.0ram 32.0rom  4.204902\n",
       "4.0ram 64.0rom  4.142857\n",
       "2.0ram 16.0rom  4.084211\n",
       "2.0ram 32.0rom  4.020833\n",
       "3.0ram 32.0rom  3.981633"
      ]
     },
     "execution_count": 13,
     "metadata": {},
     "output_type": "execute_result"
    }
   ],
   "source": [
    "# removing the least listed ram_rom values\n",
    "clean = clean[clean['ram_rom'].isin(clean.ram_rom.value_counts().head(7).index)].reset_index(drop=True)\n",
    "\n",
    "# user rating of the top ram rom combinations\n",
    "clean.pivot_table(index = 'ram_rom', values = 'ratings', \n",
    "             aggfunc = np.mean).sort_values(by = 'ratings', ascending = False).head(7)"
   ]
  },
  {
   "cell_type": "markdown",
   "metadata": {},
   "source": [
    "### Screen Dimension\n",
    "\n",
    "Screen dimension of the phone also play a vital role in determining the price of devices, so it is important to explore and also drill down on the various screen dimensions available. "
   ]
  },
  {
   "cell_type": "code",
   "execution_count": 14,
   "metadata": {
    "scrolled": true
   },
   "outputs": [
    {
     "data": {
      "text/plain": [
       "5.5    40\n",
       "5.8    36\n",
       "5.7    32\n",
       "5.0    21\n",
       "6.0    17\n",
       "5.2    14\n",
       "6.6    12\n",
       "6.2     9\n",
       "Name: screen_dim, dtype: int64"
      ]
     },
     "execution_count": 14,
     "metadata": {},
     "output_type": "execute_result"
    }
   ],
   "source": [
    "# Most occuring screen dimension\n",
    "clean.screen_dim.value_counts().head(8)"
   ]
  },
  {
   "cell_type": "code",
   "execution_count": 15,
   "metadata": {},
   "outputs": [
    {
     "data": {
      "image/png": "[encoded data removed]",
      "text/plain": [
       "<Figure size 1080x432 with 1 Axes>"
      ]
     },
     "metadata": {
      "needs_background": "light"
     },
     "output_type": "display_data"
    }
   ],
   "source": [
    "# User rating of the top 8 screen dimensions\n",
    "scr = clean.pivot_table(index = 'screen_dim', values = 'ratings', \n",
    "                        aggfunc = np.mean).sort_values(by = 'ratings', ascending = False)\n",
    "\n",
    "# picking the top eight values\n",
    "gr = scr.loc[clean.screen_dim.value_counts().head(8).index].sort_values('ratings', \n",
    "                     ascending = False)\n",
    "\n",
    "gr.index = [round(i,3) for i in np.array(gr['ratings'].index)] # removing the trailing figures for the screen dimension\n",
    "\n",
    "# plotting the top 8 screen dimensions\n",
    "gr.plot.bar(figsize = (15,6), legend = False)\n",
    "plt.xticks(rotation = 0)\n",
    "\n",
    "# laabelling the bars\n",
    "for x,y in enumerate(round(gr['ratings'],2)):\n",
    "    plt.text(x,y+0.04,y,ha='center',fontsize=13)\n",
    "\n",
    "# removing the y axis\n",
    "plt.yticks([])\n",
    "plt.xlabel('Android Versions', weight='bold', size=11)\n",
    "plt.title('User Rating of Eight Most Common Screen Dimension', weight='bold', size=13)\n",
    "sns.despine(left= True, bottom = True);\n",
    "\n",
    "# Selecting the top eight screen dimensions\n",
    "clean = clean[clean['screen_dim'].isin(gr.index)]"
   ]
  },
  {
   "cell_type": "markdown",
   "metadata": {},
   "source": [
    "### Battery Capacity\n",
    "\n",
    "The battery capacity is next most influential factor affecting the prices of phones, thus we would perform an exploratory analysis of the column to understand how it is distributed."
   ]
  },
  {
   "cell_type": "code",
   "execution_count": 16,
   "metadata": {
    "scrolled": false
   },
   "outputs": [
    {
     "data": {
      "text/plain": [
       "4000.0     113\n",
       "5000.0      32\n",
       "3000.0       8\n",
       "6020.0       4\n",
       "2600.0       3\n",
       "2400.0       2\n",
       "10000.0      2\n",
       "2800.0       2\n",
       "2970.0       2\n",
       "2990.0       2\n",
       "2200.0       2\n",
       "3200.0       1\n",
       "2050.0       1\n",
       "2500.0       1\n",
       "3080.0       1\n",
       "2000.0       1\n",
       "3060.0       1\n",
       "3500.0       1\n",
       "3100.0       1\n",
       "6000.0       1\n",
       "Name: battery, dtype: int64"
      ]
     },
     "execution_count": 16,
     "metadata": {},
     "output_type": "execute_result"
    }
   ],
   "source": [
    "# Frequency of battery capacities\n",
    "clean.battery.value_counts()"
   ]
  },
  {
   "cell_type": "code",
   "execution_count": 17,
   "metadata": {},
   "outputs": [
    {
     "data": {
      "text/html": [
       "<div>\n",
       "<style scoped>\n",
       "    .dataframe tbody tr th:only-of-type {\n",
       "        vertical-align: middle;\n",
       "    }\n",
       "\n",
       "    .dataframe tbody tr th {\n",
       "        vertical-align: top;\n",
       "    }\n",
       "\n",
       "    .dataframe thead th {\n",
       "        text-align: right;\n",
       "    }\n",
       "</style>\n",
       "<table border=\"1\" class=\"dataframe\">\n",
       "  <thead>\n",
       "    <tr style=\"text-align: right;\">\n",
       "      <th></th>\n",
       "      <th>ratings</th>\n",
       "    </tr>\n",
       "  </thead>\n",
       "  <tbody>\n",
       "    <tr>\n",
       "      <th>5000.0</th>\n",
       "      <td>4.246875</td>\n",
       "    </tr>\n",
       "    <tr>\n",
       "      <th>4000.0</th>\n",
       "      <td>4.091150</td>\n",
       "    </tr>\n",
       "  </tbody>\n",
       "</table>\n",
       "</div>"
      ],
      "text/plain": [
       "         ratings\n",
       "5000.0  4.246875\n",
       "4000.0  4.091150"
      ]
     },
     "execution_count": 17,
     "metadata": {},
     "output_type": "execute_result"
    }
   ],
   "source": [
    "# User rating of the top two battery capacities\n",
    "bat = clean.pivot_table(index = 'battery', values = 'ratings')\n",
    "bat.loc[clean.battery.value_counts().head(2).index].sort_values('ratings', ascending = False)"
   ]
  },
  {
   "cell_type": "code",
   "execution_count": 18,
   "metadata": {},
   "outputs": [],
   "source": [
    "# Selecting the two most popular battery types\n",
    "clean = clean[clean['battery'].isin(clean.battery.value_counts().head(2).index)]"
   ]
  },
  {
   "cell_type": "markdown",
   "metadata": {},
   "source": [
    "### Android Versions\n",
    "\n",
    "From the correlation analysis, the role of Android versions in influencing the price of phones is quite negligible, however, we would still perform an analysis to better understand how it affects the user experience. "
   ]
  },
  {
   "cell_type": "code",
   "execution_count": 19,
   "metadata": {},
   "outputs": [
    {
     "name": "stdout",
     "output_type": "stream",
     "text": [
      "8.1    82\n",
      "7.1    26\n",
      "7.0    11\n",
      "9.0    11\n",
      "8.0     7\n",
      "Name: android_ver, dtype: int64\n"
     ]
    }
   ],
   "source": [
    "# Top most common android versions\n",
    "print(clean.android_ver.value_counts().head())"
   ]
  },
  {
   "cell_type": "code",
   "execution_count": 20,
   "metadata": {},
   "outputs": [
    {
     "data": {
      "image/png": "[encoded data removed]",
      "text/plain": [
       "<Figure size 1008x432 with 1 Axes>"
      ]
     },
     "metadata": {
      "needs_background": "light"
     },
     "output_type": "display_data"
    }
   ],
   "source": [
    "# user rating of the android versions\n",
    "android = clean.pivot_table(index = 'android_ver', values = 'ratings').sort_values(ascending = False, by = 'ratings')\n",
    "and_gr = android.loc[clean.android_ver.value_counts().head().index].sort_values(ascending = False,\n",
    "          by='ratings')\n",
    "\n",
    "and_gr.plot(kind='barh', legend = False, figsize =(14,6))\n",
    "plt.title('User Rating of top Five Android Versions', size = 13, weight='bold')\n",
    "for x,y in enumerate(round(and_gr['ratings'], 2)):\n",
    "    plt.text(y+0.05,x,y)\n",
    "sns.despine(bottom = True, left = True)\n",
    "plt.xticks([]);"
   ]
  },
  {
   "cell_type": "markdown",
   "metadata": {},
   "source": [
    "## Conclusion"
   ]
  },
  {
   "cell_type": "code",
   "execution_count": 21,
   "metadata": {},
   "outputs": [
    {
     "data": {
      "text/plain": [
       "Gionee       32\n",
       "Nokia        20\n",
       "LG           17\n",
       "Infinix      16\n",
       "Tecno        12\n",
       "Samsung      10\n",
       "Itel          9\n",
       "XIAOMI        6\n",
       "Cubot         4\n",
       "Lenovo        3\n",
       "Blackview     2\n",
       "Huawei        2\n",
       "Letv          2\n",
       "Oukitel       2\n",
       "Name: brand, dtype: int64"
      ]
     },
     "execution_count": 21,
     "metadata": {},
     "output_type": "execute_result"
    }
   ],
   "source": [
    "# adjusting for android versions\n",
    "clean[clean.android_ver.isin(and_gr.index)]['brand'].value_counts()"
   ]
  },
  {
   "cell_type": "code",
   "execution_count": 22,
   "metadata": {
    "scrolled": true
   },
   "outputs": [
    {
     "data": {
      "text/plain": [
       "Gionee       33\n",
       "Nokia        20\n",
       "LG           18\n",
       "Infinix      17\n",
       "Tecno        12\n",
       "Samsung      11\n",
       "Itel          9\n",
       "XIAOMI        8\n",
       "Cubot         4\n",
       "Huawei        3\n",
       "Lenovo        3\n",
       "Oukitel       3\n",
       "Blackview     2\n",
       "Letv          2\n",
       "Name: brand, dtype: int64"
      ]
     },
     "execution_count": 22,
     "metadata": {},
     "output_type": "execute_result"
    }
   ],
   "source": [
    "# without adjusting for android versions\n",
    "clean.brand.value_counts()"
   ]
  },
  {
   "cell_type": "markdown",
   "metadata": {},
   "source": [
    "After requisite exploration and analysis of the data, we can adequately recommend the sale of **Gionee, Nokia, LG and Infinix** phones to the company. "
   ]
  },
  {
   "cell_type": "code",
   "execution_count": null,
   "metadata": {},
   "outputs": [],
   "source": []
  }
 ],
 "metadata": {
  "kernelspec": {
   "display_name": "Python 3",
   "language": "python",
   "name": "python3"
  },
  "language_info": {
   "codemirror_mode": {
    "name": "ipython",
    "version": 3
   },
   "file_extension": ".py",
   "mimetype": "text/x-python",
   "name": "python",
   "nbconvert_exporter": "python",
   "pygments_lexer": "ipython3",
   "version": "3.7.6"
  }
 },
 "nbformat": 4,
 "nbformat_minor": 2
}
