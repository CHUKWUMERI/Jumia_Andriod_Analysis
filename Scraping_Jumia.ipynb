{
 "cells": [
  {
   "cell_type": "code",
   "execution_count": 1,
   "metadata": {},
   "outputs": [],
   "source": [
    "import requests\n",
    "from bs4 import BeautifulSoup\n",
    "import pandas as pd"
   ]
  },
  {
   "cell_type": "code",
   "execution_count": 25,
   "metadata": {},
   "outputs": [],
   "source": [
    "url = 'https://www.jumia.com.ng/smartphones/?page=2'\n",
    "page = requests.get(url)\n",
    "\n",
    "soup = BeautifulSoup(page.content, 'html.parser')"
   ]
  },
  {
   "cell_type": "code",
   "execution_count": 18,
   "metadata": {},
   "outputs": [],
   "source": [
    "# creating a function that will help in scraping (using findAll)\n",
    "def locator(span, attrs={}):\n",
    "    vals = soup.find_all(span, attrs)\n",
    "    return [i.text for i in vals]\n",
    "    "
   ]
  },
  {
   "cell_type": "code",
   "execution_count": 26,
   "metadata": {},
   "outputs": [],
   "source": [
    "# scraping the site for the brand\n",
    "#brands = [a.replace('\\xa0', '') for a in locator('span', {'class':'brand'})]\n",
    "\n",
    "#scraping the site for the device description\n",
    "desc = [a for a in locator('h3', {'class':'name'})]\n",
    "\n",
    "\n",
    "# scraping the old and new prices of the items\n",
    "new_prices = [a for a in locator('div', {'class':'prc'})]\n",
    "\n",
    "\n",
    "old_prices = [a for a in locator('div', {'class':'old'})]\n",
    "\n",
    "review = [a for a in locator('div', {'class':'stars'})]\n",
    "\n",
    "# obtaining the new prices from the list of prices\n",
    "# new_prices = []\n",
    "# for i in range(0, len(prices)-1, 2):\n",
    "#     new_prices.append(prices[i])\n",
    "\n",
    "# # obtaining the old prices from the list of prices  \n",
    "# old_prices = []\n",
    "# for i in range(1, len(prices), 2):\n",
    "#     old_prices.append(prices[i])\n",
    "\n",
    "# # converting the scraped variables to a dataframe\n",
    "data = pd.DataFrame(zip(new_prices, old_prices, desc, review), \n",
    "                    columns = ['Current_Price', 'Old Price', 'Description', 'review'])"
   ]
  },
  {
   "cell_type": "code",
   "execution_count": 52,
   "metadata": {},
   "outputs": [],
   "source": [
    "# data['Old Price'].replace(' ', 'No Old Prices', inplace = True)\n",
    "\n",
    "data.drop_duplicates(inplace = True)"
   ]
  },
  {
   "cell_type": "code",
   "execution_count": 57,
   "metadata": {},
   "outputs": [],
   "source": [
    "data['brand'] = data['Description'].apply(lambda x: x.split()[0])"
   ]
  },
  {
   "cell_type": "code",
   "execution_count": null,
   "metadata": {},
   "outputs": [],
   "source": [
    "data.to_csv('scraping_jumia')"
   ]
  },
  {
   "cell_type": "markdown",
   "metadata": {},
   "source": [
    "#### Phones sold by Jumia"
   ]
  },
  {
   "cell_type": "code",
   "execution_count": 28,
   "metadata": {},
   "outputs": [],
   "source": [
    "# data.to_csv('jumia_phones.csv') # uncommenting this line resets the already existing jumia.csv\n",
    "\n",
    "# reads the saved data\n",
    "previous = pd.read_csv('jumia.csv')\n",
    "\n",
    "# appends it to the new data now\n",
    "saved = pd.concat([previous, data], sort = False, join = 'inner', ignore_index = True)\n",
    "\n",
    "# remove duplicate rows\n",
    "saved.drop_duplicates(inplace = True)\n",
    "\n",
    "# adds the clean data\n",
    "saved.to_csv('jumia.csv')"
   ]
  },
  {
   "cell_type": "code",
   "execution_count": 55,
   "metadata": {},
   "outputs": [
    {
     "data": {
      "text/html": [
       "<div>\n",
       "<style scoped>\n",
       "    .dataframe tbody tr th:only-of-type {\n",
       "        vertical-align: middle;\n",
       "    }\n",
       "\n",
       "    .dataframe tbody tr th {\n",
       "        vertical-align: top;\n",
       "    }\n",
       "\n",
       "    .dataframe thead th {\n",
       "        text-align: right;\n",
       "    }\n",
       "</style>\n",
       "<table border=\"1\" class=\"dataframe\">\n",
       "  <thead>\n",
       "    <tr style=\"text-align: right;\">\n",
       "      <th></th>\n",
       "      <th>Brands</th>\n",
       "      <th>Current_Price</th>\n",
       "      <th>Description</th>\n",
       "      <th>Old Price</th>\n",
       "    </tr>\n",
       "  </thead>\n",
       "  <tbody>\n",
       "    <tr>\n",
       "      <th>0</th>\n",
       "      <td>Samsung</td>\n",
       "      <td>₦ 132,900</td>\n",
       "      <td>Galaxy S9 5.8'' Inch QHD 4GB+64GB 12MP+8MP 4G ...</td>\n",
       "      <td>₦ 250,000</td>\n",
       "    </tr>\n",
       "    <tr>\n",
       "      <th>1</th>\n",
       "      <td>Nokia</td>\n",
       "      <td>₦ 35,699</td>\n",
       "      <td>5.1, 5.5-inch (3GB RAM 32GB ROM), Android 9 Pi...</td>\n",
       "      <td>₦ 45,999</td>\n",
       "    </tr>\n",
       "    <tr>\n",
       "      <th>2</th>\n",
       "      <td>UMIDIGI</td>\n",
       "      <td>₦ 34,990</td>\n",
       "      <td>A3X Android 10 Global Version 3GB RAM 5.7\" Sma...</td>\n",
       "      <td>No Old Prices</td>\n",
       "    </tr>\n",
       "    <tr>\n",
       "      <th>3</th>\n",
       "      <td>Letv</td>\n",
       "      <td>₦ 28,800</td>\n",
       "      <td>LeTV Le X526 5.5\" FHD (3GB, 64GB ROM), Android...</td>\n",
       "      <td>₦ 56,800</td>\n",
       "    </tr>\n",
       "    <tr>\n",
       "      <th>4</th>\n",
       "      <td>Itel</td>\n",
       "      <td>₦ 29,990</td>\n",
       "      <td>S15 6.088\" HD+ FullScreen, 16MP AI Front Camer...</td>\n",
       "      <td>₦ 32,000</td>\n",
       "    </tr>\n",
       "  </tbody>\n",
       "</table>\n",
       "</div>"
      ],
      "text/plain": [
       "    Brands Current_Price                                        Description  \\\n",
       "0  Samsung    ₦ 132,900   Galaxy S9 5.8'' Inch QHD 4GB+64GB 12MP+8MP 4G ...   \n",
       "1    Nokia     ₦ 35,699   5.1, 5.5-inch (3GB RAM 32GB ROM), Android 9 Pi...   \n",
       "2  UMIDIGI     ₦ 34,990   A3X Android 10 Global Version 3GB RAM 5.7\" Sma...   \n",
       "3     Letv     ₦ 28,800   LeTV Le X526 5.5\" FHD (3GB, 64GB ROM), Android...   \n",
       "4     Itel     ₦ 29,990   S15 6.088\" HD+ FullScreen, 16MP AI Front Camer...   \n",
       "\n",
       "       Old Price  \n",
       "0     ₦ 250,000   \n",
       "1      ₦ 45,999   \n",
       "2  No Old Prices  \n",
       "3      ₦ 56,800   \n",
       "4      ₦ 32,000   "
      ]
     },
     "execution_count": 55,
     "metadata": {},
     "output_type": "execute_result"
    }
   ],
   "source": [
    "saved.head()"
   ]
  },
  {
   "cell_type": "markdown",
   "metadata": {},
   "source": [
    "#### HP latops sold by JUMIA"
   ]
  },
  {
   "cell_type": "code",
   "execution_count": 186,
   "metadata": {},
   "outputs": [],
   "source": [
    "# data.to_csv('hp_laptops.csv') this resets the existing hp_laptops to csv\n",
    "previous_hp = pd.read_csv('hp_laptops.csv')\n",
    "\n",
    "# appends it to the new data now\n",
    "saved_hp = pd.concat([previous_hp, data], sort = False, join = 'inner', ignore_index = True)\n",
    "\n",
    "# drops any duplicate rows \n",
    "saved_hp.drop_duplicates(inplace = True)\n",
    "\n",
    "# saves the clean data back to the csv file\n",
    "saved_hp.to_csv('hp_laptops.csv')"
   ]
  },
  {
   "cell_type": "code",
   "execution_count": 191,
   "metadata": {},
   "outputs": [
    {
     "data": {
      "text/html": [
       "<div>\n",
       "<style scoped>\n",
       "    .dataframe tbody tr th:only-of-type {\n",
       "        vertical-align: middle;\n",
       "    }\n",
       "\n",
       "    .dataframe tbody tr th {\n",
       "        vertical-align: top;\n",
       "    }\n",
       "\n",
       "    .dataframe thead th {\n",
       "        text-align: right;\n",
       "    }\n",
       "</style>\n",
       "<table border=\"1\" class=\"dataframe\">\n",
       "  <thead>\n",
       "    <tr style=\"text-align: right;\">\n",
       "      <th></th>\n",
       "      <th>Brands</th>\n",
       "      <th>Current_Price</th>\n",
       "      <th>Old Price</th>\n",
       "      <th>Description</th>\n",
       "    </tr>\n",
       "  </thead>\n",
       "  <tbody>\n",
       "    <tr>\n",
       "      <th>338</th>\n",
       "      <td>Hp</td>\n",
       "      <td>₦ 438,000</td>\n",
       "      <td>₦ 450,000</td>\n",
       "      <td>Elitebook 840 G6-14\"-Core I7-8565U-512GB SSD 1...</td>\n",
       "    </tr>\n",
       "    <tr>\n",
       "      <th>339</th>\n",
       "      <td>Hp</td>\n",
       "      <td>₦ 500,000</td>\n",
       "      <td>No Old Prices</td>\n",
       "      <td>Elitebook 840 G6 - 14\" - Core I7 8565u - 32GB ...</td>\n",
       "    </tr>\n",
       "    <tr>\n",
       "      <th>340</th>\n",
       "      <td>Hp</td>\n",
       "      <td>₦ 150,000</td>\n",
       "      <td>No Old Prices</td>\n",
       "      <td>14-DQ0011 TOUCHSMART Core™ I3-8145U WIN10</td>\n",
       "    </tr>\n",
       "    <tr>\n",
       "      <th>341</th>\n",
       "      <td>Hp</td>\n",
       "      <td>₦ 172,000</td>\n",
       "      <td>₦ 200,000</td>\n",
       "      <td>Pavilion X360 11.6 Intel Pentium 500GB/4GB,Tou...</td>\n",
       "    </tr>\n",
       "    <tr>\n",
       "      <th>342</th>\n",
       "      <td>Hp</td>\n",
       "      <td>₦ 172,000</td>\n",
       "      <td>₦ 190,000</td>\n",
       "      <td>Pavilion X360 11.6 Intel Pentium 500GB/4GB,Tou...</td>\n",
       "    </tr>\n",
       "  </tbody>\n",
       "</table>\n",
       "</div>"
      ],
      "text/plain": [
       "    Brands Current_Price      Old Price  \\\n",
       "338     Hp    ₦ 438,000      ₦ 450,000    \n",
       "339     Hp    ₦ 500,000   No Old Prices   \n",
       "340     Hp    ₦ 150,000   No Old Prices   \n",
       "341     Hp    ₦ 172,000      ₦ 200,000    \n",
       "342     Hp    ₦ 172,000      ₦ 190,000    \n",
       "\n",
       "                                           Description  \n",
       "338  Elitebook 840 G6-14\"-Core I7-8565U-512GB SSD 1...  \n",
       "339  Elitebook 840 G6 - 14\" - Core I7 8565u - 32GB ...  \n",
       "340          14-DQ0011 TOUCHSMART Core™ I3-8145U WIN10  \n",
       "341  Pavilion X360 11.6 Intel Pentium 500GB/4GB,Tou...  \n",
       "342  Pavilion X360 11.6 Intel Pentium 500GB/4GB,Tou...  "
      ]
     },
     "execution_count": 191,
     "metadata": {},
     "output_type": "execute_result"
    }
   ],
   "source": [
    "saved_hp.tail()"
   ]
  },
  {
   "cell_type": "code",
   "execution_count": null,
   "metadata": {},
   "outputs": [],
   "source": []
  }
 ],
 "metadata": {
  "kernelspec": {
   "display_name": "Python 3",
   "language": "python",
   "name": "python3"
  },
  "language_info": {
   "codemirror_mode": {
    "name": "ipython",
    "version": 3
   },
   "file_extension": ".py",
   "mimetype": "text/x-python",
   "name": "python",
   "nbconvert_exporter": "python",
   "pygments_lexer": "ipython3",
   "version": "3.7.6"
  }
 },
 "nbformat": 4,
 "nbformat_minor": 2
}
